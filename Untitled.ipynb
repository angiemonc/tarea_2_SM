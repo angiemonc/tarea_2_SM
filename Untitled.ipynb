{
 "cells": [
  {
   "cell_type": "markdown",
   "metadata": {},
   "source": [
    "## Correción Tarea 2"
   ]
  },
  {
   "cell_type": "markdown",
   "metadata": {},
   "source": [
    "Python es muy popular estos días gracias a su dinámico y rápidp lenguaje de programación. Permite crear un website, una app o hasta diferentes modelos de data. Industrias y organizaciones como academia, manufactura, electónica, finanzas, energía, tecnología y gobierno han utilizado Python cada ve más y más. Su síntaxis es muy fácil y simple y es muy productivo. Otenido de: https://www.techrepublic.com/article/why-python-is-so-popular-with-developers-3-reasons-the-language-has-exploded/"
   ]
  },
  {
   "cell_type": "markdown",
   "metadata": {},
   "source": [
    "7 razones por las cuales consdierar utilizar Python:\n",
    "\n",
    "1. Tiene un código legible y mantenible\n",
    "2. Paradigmas de programación múltiple\n",
    "3. Es compatible con grandes plataformas y sistemas\n",
    "Es capaz de sostener varios sitemas operativos. El código se puede correr en varias plataformas sin necesidad de recompilar.\n",
    "4. Grande librería estándar Te permite escoger módulos de tu necesidad de entre una amplia gama\n",
    "5. Varios marcos de referencia y herramientas de fuentes abiertas\n",
    "6. Tiene un procesacmiento de software complejo simplificado\n",
    "7. Adapta el procesamiento de pruebas Puedes usar Python para crear un prototipo de software rápidamente"
   ]
  }
 ],
 "metadata": {
  "kernelspec": {
   "display_name": "Python 3",
   "language": "python",
   "name": "python3"
  },
  "language_info": {
   "codemirror_mode": {
    "name": "ipython",
    "version": 3
   },
   "file_extension": ".py",
   "mimetype": "text/x-python",
   "name": "python",
   "nbconvert_exporter": "python",
   "pygments_lexer": "ipython3",
   "version": "3.8.3"
  }
 },
 "nbformat": 4,
 "nbformat_minor": 4
}
